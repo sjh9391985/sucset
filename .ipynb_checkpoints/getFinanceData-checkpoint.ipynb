{
 "cells": [
  {
   "cell_type": "markdown",
   "metadata": {},
   "source": [
    "# Sample code"
   ]
  },
  {
   "cell_type": "markdown",
   "metadata": {},
   "source": [
    "percent , count"
   ]
  },
  {
   "cell_type": "code",
   "execution_count": 1,
   "metadata": {},
   "outputs": [],
   "source": [
    "from sklearn.preprocessing import StandardScaler"
   ]
  },
  {
   "cell_type": "code",
   "execution_count": 35,
   "metadata": {},
   "outputs": [],
   "source": [
    "import sqlite3\n",
    "import pandas as pd\n",
    "import FinanceDataReader as fdr\n",
    "import numpy as np\n",
    "import datetime\n",
    "import scipy"
   ]
  },
  {
   "cell_type": "code",
   "execution_count": 58,
   "metadata": {},
   "outputs": [],
   "source": [
    "def get_date(start, terms):\n",
    "    return pd.bdate_range(end = start,tz='Asia/Seoul',periods=terms).date"
   ]
  },
  {
   "cell_type": "code",
   "execution_count": null,
   "metadata": {},
   "outputs": [],
   "source": [
    "meta = fdr.StockListing('KOSPI')\n",
    "meta.dropna(how='all',subset=meta.columns[3:],inplace=True)\n",
    "\n",
    "#평균 관리선\n",
    "avg_thres_st_ed = 3 #시가 종가 비교 3%이상 -> 둘다 동일 양봉 음봉\n",
    "avg_thres_h_l = 5\n",
    "avg_thres_dtd = 3\n",
    "\n",
    "#위험 관리선\n",
    "dager_thres_st_ed = -7\n",
    "dager_thres_h_l = -7\n",
    "dager_thres_dtd = -7\n",
    "\n",
    "#각 주식별 수치 구하기\n",
    "names = {}\n",
    "codes = meta['Symbol'].unique()\n",
    "\n",
    "\n",
    "\n",
    "#기간 정하기\n",
    "ana_period = 120\n",
    "show_period = 30\n",
    "\n",
    "for code in codes:\n",
    "    \n",
    "    #find meta & read datas\n",
    "    name = meta.loc[meta['Symbol']==code, \"Name\"].values[0]\n",
    "    finance = fdr.DataReader(code)\n",
    "    \n",
    "    #drop na\n",
    "    finance.replace(0,np.NaN,inplace=True)\n",
    "    \n",
    "    #각 주식별 수익성,변동성 변수 초기화\n",
    "    profits = []\n",
    "    variances = []\n",
    "    ts = \n",
    "    for n in range(show_period) :\n",
    "        subset = finance[::-1].iloc[n:n+period].copy()\n",
    "        \n",
    "        #수익성 점수\n",
    "        subset['YM'] = subset.index.year.astype(str) + subset.index.month.astype(str)\n",
    "        temp = subset.groupby('YM').mean()['Open']\n",
    "        temp = (temp - temp.shift(1))/temp * 100\n",
    "        profit = temp.values[1:].sum()*20\n",
    "        \n",
    "        #시가 종가 비교수치\n",
    "        day_percent_st_ed = (subset['Open']-subset['Close'])/subset['Open']\n",
    "        day_count_st_ed=(day_percent_st_ed.abs()*100 > avg_thres_st_ed).sum()\n",
    "        \n",
    "        cond = day_percent_st_ed*100 < dager_thres_st_ed\n",
    "        day_count_st_ed_dag = day_percent_st_ed[cond].abs().sum()*100\n",
    "\n",
    "        #고가 저가 비교수치\n",
    "        day_percent_h_l = (subset['High']-subset['Low'])/subset['Open']\n",
    "        day_count_h_l=(day_percent_h_l.abs()*100 > avg_thres_h_l).sum()\n",
    "        \n",
    "        cond = day_percent_h_l*100 < dager_thres_h_l\n",
    "        day_count_h_l_dag = day_percent_h_l[cond].abs().sum()*100\n",
    "\n",
    "        #일간 종가 수치 비교\n",
    "        day_to_day_ed = subset['Change']\n",
    "        day_to_day_count=(day_to_day_ed.abs()*100 > avg_thres_dtd).sum()\n",
    "        \n",
    "        cond = day_to_day_ed*100 < dager_thres_dtd\n",
    "        day_to_day_dag = day_to_day_ed[cond].abs().sum()*100\n",
    "        \n",
    "        totalCount = day_count_st_ed+day_count_st_ed_dag+day_count_h_l+day_count_h_l_dag+day_to_day_count+day_to_day_dag\n",
    "        \n",
    "        scales = StandardScaler()\n",
    "    \n",
    "        #결과 저장\n",
    "        profits.append(profit)\n",
    "        variances.append(totalCount)        \n",
    "    \n",
    "    #정규화    \n",
    "    profits = scipy.stats.zscore(profits)\n",
    "    variances = scipy.stats.zscore(variances)\n",
    "    \n",
    "    score = profits - variances\n",
    "    \n",
    "    #각 주식별 점수 저장\n",
    "    names[name] = score\n",
    "    print(name,score)\n",
    "    \n",
    "\n",
    "push = pd.DataFrame(names,index=get_date(datetime.datetime.now(),30)[::-1])\n",
    "\n",
    "goods = []\n",
    "bads = []\n",
    "recos = []\n",
    "\n",
    "for i in range(len(push)):\n",
    "    good = push.iloc[i,:].sort_values(ascending=False)[:10].mean()\n",
    "    bad = push.iloc[i,:].sort_values(ascending=False)[10:10+50].mean()\n",
    "    reco = push.iloc[i,:].sort_values(ascending=False)[:10].index.to_list()\n",
    "    reco = \",\".join(reco)\n",
    "    \n",
    "    goods.append(good)\n",
    "    bads.append(bad)\n",
    "    recos.append(reco)\n",
    "    \n",
    "# 풀 차트에 들어갈 테이블\n",
    "push2 = pd.DataFrame({\"Good\":goods,\"Bad\":bads,\"Recommend\":recos})\n",
    "push2.index = push.index\n",
    "push2 = push2.reset_index()\n",
    "push2.index.name = \"id\"\n",
    "\n",
    "# 개별 추적 subplot에 들어갈 테이블\n",
    "push3 = push.unstack().reset_index()\n",
    "push3.columns = ['Name','Date','Score']\n",
    "push3.index.name = \"id\""
   ]
  },
  {
   "cell_type": "code",
   "execution_count": 318,
   "metadata": {
    "scrolled": true
   },
   "outputs": [],
   "source": [
    "push2.to_sql(\"Temp\",con,if_exists=\"replace\")\n",
    "con = sqlite3.connect(\"C:/Users/김동현/Desktop/Django_prec/capstone/db.sqlite3\")\n",
    "push.to_sql(\"Analysis\",con,if_exists='replace')"
   ]
  }
 ],
 "metadata": {
  "kernelspec": {
   "display_name": "Python 3",
   "language": "python",
   "name": "python3"
  },
  "language_info": {
   "codemirror_mode": {
    "name": "ipython",
    "version": 3
   },
   "file_extension": ".py",
   "mimetype": "text/x-python",
   "name": "python",
   "nbconvert_exporter": "python",
   "pygments_lexer": "ipython3",
   "version": "3.6.10"
  }
 },
 "nbformat": 4,
 "nbformat_minor": 5
}
